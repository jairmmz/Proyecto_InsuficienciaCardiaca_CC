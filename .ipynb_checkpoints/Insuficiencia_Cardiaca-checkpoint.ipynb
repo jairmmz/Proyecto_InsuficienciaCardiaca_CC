{
 "cells": [
  {
   "cell_type": "code",
   "execution_count": 2,
   "metadata": {
    "id": "TcJKBrnoku_r"
   },
   "outputs": [],
   "source": [
    "import pandas as pd\n",
    "from sklearn.model_selection import train_test_split"
   ]
  },
  {
   "cell_type": "code",
   "execution_count": 4,
   "metadata": {},
   "outputs": [],
   "source": [
    "train=pd.read_csv('train.csv')"
   ]
  },
  {
   "cell_type": "code",
   "execution_count": 5,
   "metadata": {},
   "outputs": [
    {
     "data": {
      "text/html": [
       "<div>\n",
       "<style scoped>\n",
       "    .dataframe tbody tr th:only-of-type {\n",
       "        vertical-align: middle;\n",
       "    }\n",
       "\n",
       "    .dataframe tbody tr th {\n",
       "        vertical-align: top;\n",
       "    }\n",
       "\n",
       "    .dataframe thead th {\n",
       "        text-align: right;\n",
       "    }\n",
       "</style>\n",
       "<table border=\"1\" class=\"dataframe\">\n",
       "  <thead>\n",
       "    <tr style=\"text-align: right;\">\n",
       "      <th></th>\n",
       "      <th>Age</th>\n",
       "      <th>Age.Group</th>\n",
       "      <th>Gender</th>\n",
       "      <th>Locality</th>\n",
       "      <th>Marital status</th>\n",
       "      <th>Life.Style</th>\n",
       "      <th>Sleep</th>\n",
       "      <th>Category</th>\n",
       "      <th>Depression</th>\n",
       "      <th>Hyperlipi</th>\n",
       "      <th>...</th>\n",
       "      <th>oldpeak</th>\n",
       "      <th>slope</th>\n",
       "      <th>ca</th>\n",
       "      <th>thal</th>\n",
       "      <th>num</th>\n",
       "      <th>SK</th>\n",
       "      <th>SK.React</th>\n",
       "      <th>Reaction</th>\n",
       "      <th>Mortality</th>\n",
       "      <th>Follow.Up</th>\n",
       "    </tr>\n",
       "  </thead>\n",
       "  <tbody>\n",
       "    <tr>\n",
       "      <th>0</th>\n",
       "      <td>45</td>\n",
       "      <td>41-50</td>\n",
       "      <td>Female</td>\n",
       "      <td>RURAL</td>\n",
       "      <td>MARRIED</td>\n",
       "      <td>NO</td>\n",
       "      <td>NO</td>\n",
       "      <td>FREE</td>\n",
       "      <td>YES</td>\n",
       "      <td>YES</td>\n",
       "      <td>...</td>\n",
       "      <td>3.0</td>\n",
       "      <td>2</td>\n",
       "      <td>0</td>\n",
       "      <td>7</td>\n",
       "      <td>2</td>\n",
       "      <td>1</td>\n",
       "      <td>NO</td>\n",
       "      <td>0</td>\n",
       "      <td>0</td>\n",
       "      <td>60</td>\n",
       "    </tr>\n",
       "    <tr>\n",
       "      <th>1</th>\n",
       "      <td>51</td>\n",
       "      <td>51-60</td>\n",
       "      <td>Female</td>\n",
       "      <td>URBAN</td>\n",
       "      <td>MARRIED</td>\n",
       "      <td>NO</td>\n",
       "      <td>NO</td>\n",
       "      <td>FREE</td>\n",
       "      <td>YES</td>\n",
       "      <td>YES</td>\n",
       "      <td>...</td>\n",
       "      <td>1.2</td>\n",
       "      <td>2</td>\n",
       "      <td>0</td>\n",
       "      <td>7</td>\n",
       "      <td>2</td>\n",
       "      <td>1</td>\n",
       "      <td>NO</td>\n",
       "      <td>0</td>\n",
       "      <td>0</td>\n",
       "      <td>15</td>\n",
       "    </tr>\n",
       "    <tr>\n",
       "      <th>2</th>\n",
       "      <td>55</td>\n",
       "      <td>51-60</td>\n",
       "      <td>Female</td>\n",
       "      <td>RURAL</td>\n",
       "      <td>MARRIED</td>\n",
       "      <td>YES</td>\n",
       "      <td>YES</td>\n",
       "      <td>FREE</td>\n",
       "      <td>YES</td>\n",
       "      <td>YES</td>\n",
       "      <td>...</td>\n",
       "      <td>3.4</td>\n",
       "      <td>2</td>\n",
       "      <td>0</td>\n",
       "      <td>3</td>\n",
       "      <td>2</td>\n",
       "      <td>1</td>\n",
       "      <td>NO</td>\n",
       "      <td>0</td>\n",
       "      <td>0</td>\n",
       "      <td>6</td>\n",
       "    </tr>\n",
       "    <tr>\n",
       "      <th>3</th>\n",
       "      <td>55</td>\n",
       "      <td>51-60</td>\n",
       "      <td>Female</td>\n",
       "      <td>RURAL</td>\n",
       "      <td>MARRIED</td>\n",
       "      <td>YES</td>\n",
       "      <td>YES</td>\n",
       "      <td>FREE</td>\n",
       "      <td>YES</td>\n",
       "      <td>YES</td>\n",
       "      <td>...</td>\n",
       "      <td>2.0</td>\n",
       "      <td>2</td>\n",
       "      <td>1</td>\n",
       "      <td>7</td>\n",
       "      <td>3</td>\n",
       "      <td>1</td>\n",
       "      <td>NO</td>\n",
       "      <td>0</td>\n",
       "      <td>0</td>\n",
       "      <td>52</td>\n",
       "    </tr>\n",
       "    <tr>\n",
       "      <th>4</th>\n",
       "      <td>56</td>\n",
       "      <td>51-60</td>\n",
       "      <td>Female</td>\n",
       "      <td>RURAL</td>\n",
       "      <td>MARRIED</td>\n",
       "      <td>YES</td>\n",
       "      <td>NO</td>\n",
       "      <td>FREE</td>\n",
       "      <td>YES</td>\n",
       "      <td>YES</td>\n",
       "      <td>...</td>\n",
       "      <td>4.0</td>\n",
       "      <td>3</td>\n",
       "      <td>2</td>\n",
       "      <td>7</td>\n",
       "      <td>3</td>\n",
       "      <td>1</td>\n",
       "      <td>NO</td>\n",
       "      <td>0</td>\n",
       "      <td>0</td>\n",
       "      <td>34</td>\n",
       "    </tr>\n",
       "  </tbody>\n",
       "</table>\n",
       "<p>5 rows × 60 columns</p>\n",
       "</div>"
      ],
      "text/plain": [
       "   Age Age.Group  Gender Locality   Marital status                         \\\n",
       "0   45     41-50  Female      RURAL                               MARRIED   \n",
       "1   51     51-60  Female      URBAN                               MARRIED   \n",
       "2   55     51-60  Female      RURAL                               MARRIED   \n",
       "3   55     51-60  Female      RURAL                               MARRIED   \n",
       "4   56     51-60  Female      RURAL                               MARRIED   \n",
       "\n",
       "  Life.Style                                                                                \\\n",
       "0                                                 NO                                         \n",
       "1                                                 NO                                         \n",
       "2                                                YES                                         \n",
       "3                                                YES                                         \n",
       "4                                                YES                                         \n",
       "\n",
       "  Sleep Category Depression Hyperlipi  ... oldpeak slope  ca  thal num SK  \\\n",
       "0    NO     FREE        YES       YES  ...     3.0     2   0     7   2  1   \n",
       "1    NO     FREE        YES       YES  ...     1.2     2   0     7   2  1   \n",
       "2   YES     FREE        YES       YES  ...     3.4     2   0     3   2  1   \n",
       "3   YES     FREE        YES       YES  ...     2.0     2   1     7   3  1   \n",
       "4    NO     FREE        YES       YES  ...     4.0     3   2     7   3  1   \n",
       "\n",
       "   SK.React  Reaction  Mortality  Follow.Up  \n",
       "0        NO         0          0         60  \n",
       "1        NO         0          0         15  \n",
       "2        NO         0          0          6  \n",
       "3        NO         0          0         52  \n",
       "4        NO         0          0         34  \n",
       "\n",
       "[5 rows x 60 columns]"
      ]
     },
     "execution_count": 5,
     "metadata": {},
     "output_type": "execute_result"
    }
   ],
   "source": [
    "train.head()"
   ]
  },
  {
   "cell_type": "code",
   "execution_count": 6,
   "metadata": {},
   "outputs": [
    {
     "data": {
      "text/plain": [
       "array([2, 0, 1], dtype=int64)"
      ]
     },
     "execution_count": 6,
     "metadata": {},
     "output_type": "execute_result"
    }
   ],
   "source": [
    "pd.unique(train['restecg'])"
   ]
  },
  {
   "cell_type": "code",
   "execution_count": 7,
   "metadata": {},
   "outputs": [
    {
     "data": {
      "text/plain": [
       "array(['Female', 'Male'], dtype=object)"
      ]
     },
     "execution_count": 7,
     "metadata": {},
     "output_type": "execute_result"
    }
   ],
   "source": [
    "pd.unique(train['Gender'])"
   ]
  },
  {
   "cell_type": "code",
   "execution_count": 8,
   "metadata": {},
   "outputs": [
    {
     "data": {
      "text/plain": [
       "array([45, 51, 55, 56, 57, 58, 59, 60, 61, 62, 63, 65, 66, 24, 25, 35, 38,\n",
       "       40, 44, 46, 47, 50, 52, 53, 54, 64, 67, 68, 69, 70, 77],\n",
       "      dtype=int64)"
      ]
     },
     "execution_count": 8,
     "metadata": {},
     "output_type": "execute_result"
    }
   ],
   "source": [
    "pd.unique(train['Age'])"
   ]
  },
  {
   "cell_type": "code",
   "execution_count": 9,
   "metadata": {},
   "outputs": [
    {
     "data": {
      "text/plain": [
       "0"
      ]
     },
     "execution_count": 9,
     "metadata": {},
     "output_type": "execute_result"
    }
   ],
   "source": [
    "#Dado que encontre que hay personas con edad null, cunatos existen\n",
    "train['Age'].isna().sum()"
   ]
  },
  {
   "cell_type": "code",
   "execution_count": 10,
   "metadata": {},
   "outputs": [
    {
     "data": {
      "text/plain": [
       "54.29347826086956"
      ]
     },
     "execution_count": 10,
     "metadata": {},
     "output_type": "execute_result"
    }
   ],
   "source": [
    "train['Age'].mean()"
   ]
  },
  {
   "cell_type": "code",
   "execution_count": 11,
   "metadata": {},
   "outputs": [],
   "source": [
    "train['Age']=train['Age'].fillna(train['Age'].mean())"
   ]
  },
  {
   "cell_type": "code",
   "execution_count": 12,
   "metadata": {},
   "outputs": [
    {
     "data": {
      "text/plain": [
       "0"
      ]
     },
     "execution_count": 12,
     "metadata": {},
     "output_type": "execute_result"
    }
   ],
   "source": [
    "train[\"Age\"].isna().sum()"
   ]
  },
  {
   "cell_type": "code",
   "execution_count": 13,
   "metadata": {},
   "outputs": [
    {
     "data": {
      "text/plain": [
       "Age                                                                                         0\n",
       "Age.Group                                                                                   0\n",
       "Gender                                                                                      0\n",
       "Locality                                                                                    0\n",
       "Marital status                                                                              0\n",
       "Life.Style                                                                                  0\n",
       "Sleep                                                                                       0\n",
       "Category                                                                                    0\n",
       "Depression                                                                                  0\n",
       "Hyperlipi                                                                                   0\n",
       "Smoking                                                                                     0\n",
       "Family.History                                                                              0\n",
       "F.History                                                                                   0\n",
       "Diabetes                                                                                    0\n",
       "HTN                                                                                         0\n",
       "Allergies                                                                                   0\n",
       "BP                                                                                          0\n",
       "Thrombolysis                                                                                0\n",
       "BGR                                                                                         0\n",
       "B.Urea                                                                                      0\n",
       "S.Cr                                                                                        0\n",
       "S.Sodium                                                                                    0\n",
       "S.Potassium                                                                                 0\n",
       "S.Chloride                                                                                  0\n",
       "C.P.K                                                                                       0\n",
       "CK.MB                                                                                       0\n",
       "ESR                                                                                         0\n",
       "WBC                                                                                         0\n",
       "RBC                                                                                         0\n",
       "Hemoglobin                                                                                  0\n",
       "P.C.V                                                                                       0\n",
       "M.C.V                                                                                       0\n",
       "M.C.H                                                                                       0\n",
       "M.C.H.C                                                                                     0\n",
       "PLATELET_COUNT                                                                              0\n",
       "NEUTROPHIL                                                                                  0\n",
       "LYMPHO                                                                                      0\n",
       "MONOCYTE                                                                                    0\n",
       "EOSINO                                                                                      0\n",
       "Others                                                                                      0\n",
       "CO                                                                                          0\n",
       "Diagnosis                                                                                   0\n",
       "Hypersensitivity                                                                            0\n",
       "cp                                                                                          0\n",
       "trestbps                                                                                    0\n",
       "chol                                                                                        0\n",
       "fbs                                                                                         0\n",
       "restecg                                                                                     0\n",
       "thalach                                                                                     0\n",
       "exang                                                                                       0\n",
       "oldpeak                                                                                     0\n",
       "slope                                                                                       0\n",
       "ca                                                                                          0\n",
       "thal                                                                                        0\n",
       "num                                                                                         0\n",
       "SK                                                                                          0\n",
       "SK.React                                                                                    0\n",
       "Reaction                                                                                    0\n",
       "Mortality                                                                                   0\n",
       "Follow.Up                                                                                   0\n",
       "dtype: int64"
      ]
     },
     "execution_count": 13,
     "metadata": {},
     "output_type": "execute_result"
    }
   ],
   "source": [
    "train.isna().sum()"
   ]
  },
  {
   "cell_type": "code",
   "execution_count": 14,
   "metadata": {},
   "outputs": [],
   "source": [
    "# Aqui toma las columnas que me sirven para le problema\n",
    "train=train[['restecg','Gender','Age','Mortality']]\n"
   ]
  },
  {
   "cell_type": "code",
   "execution_count": 15,
   "metadata": {},
   "outputs": [],
   "source": [
    "# Este elimina las filas que tengan algun nulo\n",
    "train=train.dropna() \n",
    "#Luego eliminados los duplicados\n",
    "train=train.drop_duplicates()"
   ]
  },
  {
   "cell_type": "code",
   "execution_count": 16,
   "metadata": {},
   "outputs": [
    {
     "name": "stdout",
     "output_type": "stream",
     "text": [
      "   Mortality\n",
      "0          0\n",
      "1          0\n",
      "2          0\n",
      "4          0\n",
      "5          1 \n",
      "    restecg  Gender  Age\n",
      "0        2  Female   45\n",
      "1        0  Female   51\n",
      "2        1  Female   55\n",
      "4        2  Female   56\n",
      "5        2  Female   56\n"
     ]
    }
   ],
   "source": [
    "trainDatax=train[['restecg','Gender','Age']]\n",
    "trainDatay=train[['Mortality']]\n",
    "print(trainDatay.head(),\"\\n\", trainDatax.head())"
   ]
  }
 ],
 "metadata": {
  "colab": {
   "collapsed_sections": [],
   "name": "Insuficiencia_Cardiaca.ipynb",
   "provenance": []
  },
  "kernelspec": {
   "display_name": "Python 3 (ipykernel)",
   "language": "python",
   "name": "python3"
  },
  "language_info": {
   "codemirror_mode": {
    "name": "ipython",
    "version": 3
   },
   "file_extension": ".py",
   "mimetype": "text/x-python",
   "name": "python",
   "nbconvert_exporter": "python",
   "pygments_lexer": "ipython3",
   "version": "3.9.12"
  }
 },
 "nbformat": 4,
 "nbformat_minor": 1
}
