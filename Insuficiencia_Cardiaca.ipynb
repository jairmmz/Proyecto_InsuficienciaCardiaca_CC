{
 "cells": [
  {
   "cell_type": "code",
   "execution_count": 1,
   "metadata": {
    "id": "TcJKBrnoku_r"
   },
   "outputs": [],
   "source": [
    "import pandas as pd\n",
    "from sklearn.model_selection import train_test_split"
   ]
  },
  {
   "cell_type": "code",
   "execution_count": 2,
   "metadata": {},
   "outputs": [],
   "source": [
    "train=pd.read_csv('train.csv') #Leendo el dataset de insuficiencia cardiaca."
   ]
  },
  {
   "cell_type": "code",
   "execution_count": 3,
   "metadata": {},
   "outputs": [
    {
     "data": {
      "text/html": [
       "<div>\n",
       "<style scoped>\n",
       "    .dataframe tbody tr th:only-of-type {\n",
       "        vertical-align: middle;\n",
       "    }\n",
       "\n",
       "    .dataframe tbody tr th {\n",
       "        vertical-align: top;\n",
       "    }\n",
       "\n",
       "    .dataframe thead th {\n",
       "        text-align: right;\n",
       "    }\n",
       "</style>\n",
       "<table border=\"1\" class=\"dataframe\">\n",
       "  <thead>\n",
       "    <tr style=\"text-align: right;\">\n",
       "      <th></th>\n",
       "      <th>Age</th>\n",
       "      <th>Age.Group</th>\n",
       "      <th>Gender</th>\n",
       "      <th>Locality</th>\n",
       "      <th>Marital status</th>\n",
       "      <th>Life.Style</th>\n",
       "      <th>Sleep</th>\n",
       "      <th>Category</th>\n",
       "      <th>Depression</th>\n",
       "      <th>Hyperlipi</th>\n",
       "      <th>...</th>\n",
       "      <th>oldpeak</th>\n",
       "      <th>slope</th>\n",
       "      <th>ca</th>\n",
       "      <th>thal</th>\n",
       "      <th>num</th>\n",
       "      <th>SK</th>\n",
       "      <th>SK.React</th>\n",
       "      <th>Reaction</th>\n",
       "      <th>Mortality</th>\n",
       "      <th>Follow.Up</th>\n",
       "    </tr>\n",
       "  </thead>\n",
       "  <tbody>\n",
       "    <tr>\n",
       "      <th>0</th>\n",
       "      <td>45</td>\n",
       "      <td>41-50</td>\n",
       "      <td>Female</td>\n",
       "      <td>RURAL</td>\n",
       "      <td>MARRIED</td>\n",
       "      <td>NO</td>\n",
       "      <td>NO</td>\n",
       "      <td>FREE</td>\n",
       "      <td>YES</td>\n",
       "      <td>YES</td>\n",
       "      <td>...</td>\n",
       "      <td>3.0</td>\n",
       "      <td>2</td>\n",
       "      <td>0</td>\n",
       "      <td>7</td>\n",
       "      <td>2</td>\n",
       "      <td>1</td>\n",
       "      <td>NO</td>\n",
       "      <td>0</td>\n",
       "      <td>0</td>\n",
       "      <td>60</td>\n",
       "    </tr>\n",
       "    <tr>\n",
       "      <th>1</th>\n",
       "      <td>51</td>\n",
       "      <td>51-60</td>\n",
       "      <td>Female</td>\n",
       "      <td>URBAN</td>\n",
       "      <td>MARRIED</td>\n",
       "      <td>NO</td>\n",
       "      <td>NO</td>\n",
       "      <td>FREE</td>\n",
       "      <td>YES</td>\n",
       "      <td>YES</td>\n",
       "      <td>...</td>\n",
       "      <td>1.2</td>\n",
       "      <td>2</td>\n",
       "      <td>0</td>\n",
       "      <td>7</td>\n",
       "      <td>2</td>\n",
       "      <td>1</td>\n",
       "      <td>NO</td>\n",
       "      <td>0</td>\n",
       "      <td>0</td>\n",
       "      <td>15</td>\n",
       "    </tr>\n",
       "    <tr>\n",
       "      <th>2</th>\n",
       "      <td>55</td>\n",
       "      <td>51-60</td>\n",
       "      <td>Female</td>\n",
       "      <td>RURAL</td>\n",
       "      <td>MARRIED</td>\n",
       "      <td>YES</td>\n",
       "      <td>YES</td>\n",
       "      <td>FREE</td>\n",
       "      <td>YES</td>\n",
       "      <td>YES</td>\n",
       "      <td>...</td>\n",
       "      <td>3.4</td>\n",
       "      <td>2</td>\n",
       "      <td>0</td>\n",
       "      <td>3</td>\n",
       "      <td>2</td>\n",
       "      <td>1</td>\n",
       "      <td>NO</td>\n",
       "      <td>0</td>\n",
       "      <td>0</td>\n",
       "      <td>6</td>\n",
       "    </tr>\n",
       "    <tr>\n",
       "      <th>3</th>\n",
       "      <td>55</td>\n",
       "      <td>51-60</td>\n",
       "      <td>Female</td>\n",
       "      <td>RURAL</td>\n",
       "      <td>MARRIED</td>\n",
       "      <td>YES</td>\n",
       "      <td>YES</td>\n",
       "      <td>FREE</td>\n",
       "      <td>YES</td>\n",
       "      <td>YES</td>\n",
       "      <td>...</td>\n",
       "      <td>2.0</td>\n",
       "      <td>2</td>\n",
       "      <td>1</td>\n",
       "      <td>7</td>\n",
       "      <td>3</td>\n",
       "      <td>1</td>\n",
       "      <td>NO</td>\n",
       "      <td>0</td>\n",
       "      <td>0</td>\n",
       "      <td>52</td>\n",
       "    </tr>\n",
       "    <tr>\n",
       "      <th>4</th>\n",
       "      <td>56</td>\n",
       "      <td>51-60</td>\n",
       "      <td>Female</td>\n",
       "      <td>RURAL</td>\n",
       "      <td>MARRIED</td>\n",
       "      <td>YES</td>\n",
       "      <td>NO</td>\n",
       "      <td>FREE</td>\n",
       "      <td>YES</td>\n",
       "      <td>YES</td>\n",
       "      <td>...</td>\n",
       "      <td>4.0</td>\n",
       "      <td>3</td>\n",
       "      <td>2</td>\n",
       "      <td>7</td>\n",
       "      <td>3</td>\n",
       "      <td>1</td>\n",
       "      <td>NO</td>\n",
       "      <td>0</td>\n",
       "      <td>0</td>\n",
       "      <td>34</td>\n",
       "    </tr>\n",
       "  </tbody>\n",
       "</table>\n",
       "<p>5 rows × 60 columns</p>\n",
       "</div>"
      ],
      "text/plain": [
       "   Age Age.Group  Gender Locality   Marital status                         \\\n",
       "0   45     41-50  Female      RURAL                               MARRIED   \n",
       "1   51     51-60  Female      URBAN                               MARRIED   \n",
       "2   55     51-60  Female      RURAL                               MARRIED   \n",
       "3   55     51-60  Female      RURAL                               MARRIED   \n",
       "4   56     51-60  Female      RURAL                               MARRIED   \n",
       "\n",
       "  Life.Style                                                                                \\\n",
       "0                                                 NO                                         \n",
       "1                                                 NO                                         \n",
       "2                                                YES                                         \n",
       "3                                                YES                                         \n",
       "4                                                YES                                         \n",
       "\n",
       "  Sleep Category Depression Hyperlipi  ... oldpeak slope  ca  thal num SK  \\\n",
       "0    NO     FREE        YES       YES  ...     3.0     2   0     7   2  1   \n",
       "1    NO     FREE        YES       YES  ...     1.2     2   0     7   2  1   \n",
       "2   YES     FREE        YES       YES  ...     3.4     2   0     3   2  1   \n",
       "3   YES     FREE        YES       YES  ...     2.0     2   1     7   3  1   \n",
       "4    NO     FREE        YES       YES  ...     4.0     3   2     7   3  1   \n",
       "\n",
       "   SK.React  Reaction  Mortality  Follow.Up  \n",
       "0        NO         0          0         60  \n",
       "1        NO         0          0         15  \n",
       "2        NO         0          0          6  \n",
       "3        NO         0          0         52  \n",
       "4        NO         0          0         34  \n",
       "\n",
       "[5 rows x 60 columns]"
      ]
     },
     "execution_count": 3,
     "metadata": {},
     "output_type": "execute_result"
    }
   ],
   "source": [
    "train.head()"
   ]
  },
  {
   "cell_type": "code",
   "execution_count": 4,
   "metadata": {},
   "outputs": [
    {
     "data": {
      "text/plain": [
       "array([2, 0, 1], dtype=int64)"
      ]
     },
     "execution_count": 4,
     "metadata": {},
     "output_type": "execute_result"
    }
   ],
   "source": [
    "pd.unique(train['restecg'])"
   ]
  },
  {
   "cell_type": "code",
   "execution_count": 5,
   "metadata": {},
   "outputs": [
    {
     "data": {
      "text/plain": [
       "array(['Female', 'Male'], dtype=object)"
      ]
     },
     "execution_count": 5,
     "metadata": {},
     "output_type": "execute_result"
    }
   ],
   "source": [
    "pd.unique(train['Gender'])"
   ]
  },
  {
   "cell_type": "code",
   "execution_count": 6,
   "metadata": {},
   "outputs": [
    {
     "data": {
      "text/plain": [
       "array([45, 51, 55, 56, 57, 58, 59, 60, 61, 62, 63, 65, 66, 24, 25, 35, 38,\n",
       "       40, 44, 46, 47, 50, 52, 53, 54, 64, 67, 68, 69, 70, 77],\n",
       "      dtype=int64)"
      ]
     },
     "execution_count": 6,
     "metadata": {},
     "output_type": "execute_result"
    }
   ],
   "source": [
    "pd.unique(train['Age'])"
   ]
  },
  {
   "cell_type": "code",
   "execution_count": 7,
   "metadata": {},
   "outputs": [
    {
     "data": {
      "text/plain": [
       "0"
      ]
     },
     "execution_count": 7,
     "metadata": {},
     "output_type": "execute_result"
    }
   ],
   "source": [
    "#Dado que encontre que hay personas con edad null, cunatos existen\n",
    "train['Age'].isna().sum()"
   ]
  },
  {
   "cell_type": "code",
   "execution_count": 8,
   "metadata": {},
   "outputs": [
    {
     "data": {
      "text/plain": [
       "54.29347826086956"
      ]
     },
     "execution_count": 8,
     "metadata": {},
     "output_type": "execute_result"
    }
   ],
   "source": [
    "train['Age'].mean()"
   ]
  },
  {
   "cell_type": "code",
   "execution_count": 9,
   "metadata": {},
   "outputs": [],
   "source": [
    "train['Age']=train['Age'].fillna(train['Age'].mean())"
   ]
  },
  {
   "cell_type": "code",
   "execution_count": 10,
   "metadata": {},
   "outputs": [
    {
     "data": {
      "text/plain": [
       "0"
      ]
     },
     "execution_count": 10,
     "metadata": {},
     "output_type": "execute_result"
    }
   ],
   "source": [
    "train[\"Age\"].isna().sum()"
   ]
  },
  {
   "cell_type": "code",
   "execution_count": 11,
   "metadata": {},
   "outputs": [
    {
     "data": {
      "text/plain": [
       "Age                                                                                         0\n",
       "Age.Group                                                                                   0\n",
       "Gender                                                                                      0\n",
       "Locality                                                                                    0\n",
       "Marital status                                                                              0\n",
       "Life.Style                                                                                  0\n",
       "Sleep                                                                                       0\n",
       "Category                                                                                    0\n",
       "Depression                                                                                  0\n",
       "Hyperlipi                                                                                   0\n",
       "Smoking                                                                                     0\n",
       "Family.History                                                                              0\n",
       "F.History                                                                                   0\n",
       "Diabetes                                                                                    0\n",
       "HTN                                                                                         0\n",
       "Allergies                                                                                   0\n",
       "BP                                                                                          0\n",
       "Thrombolysis                                                                                0\n",
       "BGR                                                                                         0\n",
       "B.Urea                                                                                      0\n",
       "S.Cr                                                                                        0\n",
       "S.Sodium                                                                                    0\n",
       "S.Potassium                                                                                 0\n",
       "S.Chloride                                                                                  0\n",
       "C.P.K                                                                                       0\n",
       "CK.MB                                                                                       0\n",
       "ESR                                                                                         0\n",
       "WBC                                                                                         0\n",
       "RBC                                                                                         0\n",
       "Hemoglobin                                                                                  0\n",
       "P.C.V                                                                                       0\n",
       "M.C.V                                                                                       0\n",
       "M.C.H                                                                                       0\n",
       "M.C.H.C                                                                                     0\n",
       "PLATELET_COUNT                                                                              0\n",
       "NEUTROPHIL                                                                                  0\n",
       "LYMPHO                                                                                      0\n",
       "MONOCYTE                                                                                    0\n",
       "EOSINO                                                                                      0\n",
       "Others                                                                                      0\n",
       "CO                                                                                          0\n",
       "Diagnosis                                                                                   0\n",
       "Hypersensitivity                                                                            0\n",
       "cp                                                                                          0\n",
       "trestbps                                                                                    0\n",
       "chol                                                                                        0\n",
       "fbs                                                                                         0\n",
       "restecg                                                                                     0\n",
       "thalach                                                                                     0\n",
       "exang                                                                                       0\n",
       "oldpeak                                                                                     0\n",
       "slope                                                                                       0\n",
       "ca                                                                                          0\n",
       "thal                                                                                        0\n",
       "num                                                                                         0\n",
       "SK                                                                                          0\n",
       "SK.React                                                                                    0\n",
       "Reaction                                                                                    0\n",
       "Mortality                                                                                   0\n",
       "Follow.Up                                                                                   0\n",
       "dtype: int64"
      ]
     },
     "execution_count": 11,
     "metadata": {},
     "output_type": "execute_result"
    }
   ],
   "source": [
    "train.isna().sum()"
   ]
  },
  {
   "cell_type": "code",
   "execution_count": 12,
   "metadata": {},
   "outputs": [],
   "source": [
    "# Aqui toma las columnas que me sirven para le problema\n",
    "train=train[['restecg','Gender','Age','Mortality']]\n"
   ]
  },
  {
   "cell_type": "code",
   "execution_count": 13,
   "metadata": {},
   "outputs": [],
   "source": [
    "# Este elimina las filas que tengan algun nulo\n",
    "train=train.dropna() \n",
    "#Luego eliminados los duplicados\n",
    "train=train.drop_duplicates()"
   ]
  },
  {
   "cell_type": "code",
   "execution_count": 14,
   "metadata": {},
   "outputs": [
    {
     "name": "stdout",
     "output_type": "stream",
     "text": [
      "   Mortality\n",
      "0          0\n",
      "1          0\n",
      "2          0\n",
      "4          0\n",
      "5          1 \n",
      "    restecg  Gender  Age\n",
      "0        2  Female   45\n",
      "1        0  Female   51\n",
      "2        1  Female   55\n",
      "4        2  Female   56\n",
      "5        2  Female   56\n"
     ]
    }
   ],
   "source": [
    "trainDatax=train[['restecg','Gender','Age']]\n",
    "trainDatay=train[['Mortality']]\n",
    "print(trainDatay.head(),\"\\n\", trainDatax.head())"
   ]
  },
  {
   "cell_type": "code",
   "execution_count": 15,
   "metadata": {},
   "outputs": [
    {
     "data": {
      "text/plain": [
       "(0      (42.55, 45.2]\n",
       " 1      (50.5, 53.15]\n",
       " 2      (53.15, 55.8]\n",
       " 4      (55.8, 58.45]\n",
       " 5      (55.8, 58.45]\n",
       "            ...      \n",
       " 142    (37.25, 39.9]\n",
       " 143    (39.9, 42.55]\n",
       " 147    (42.55, 45.2]\n",
       " 149    (45.2, 47.85]\n",
       " 150    (47.85, 50.5]\n",
       " Name: Age, Length: 75, dtype: category\n",
       " Categories (20, interval[float64, right]): [(23.947, 26.65] < (26.65, 29.3] < (29.3, 31.95] < (31.95, 34.6] ... (66.4, 69.05] < (69.05, 71.7] < (71.7, 74.35] < (74.35, 77.0]],\n",
       " array([23.947, 26.65 , 29.3  , 31.95 , 34.6  , 37.25 , 39.9  , 42.55 ,\n",
       "        45.2  , 47.85 , 50.5  , 53.15 , 55.8  , 58.45 , 61.1  , 63.75 ,\n",
       "        66.4  , 69.05 , 71.7  , 74.35 , 77.   ]))"
      ]
     },
     "execution_count": 15,
     "metadata": {},
     "output_type": "execute_result"
    }
   ],
   "source": [
    "#Trabajar las edades\n",
    "#Facilita encontrar patrones para RN.\n",
    "pd.cut(trainDatax['Age'],20, retbins=True)"
   ]
  },
  {
   "cell_type": "code",
   "execution_count": 16,
   "metadata": {},
   "outputs": [
    {
     "data": {
      "text/plain": [
       "0      (40, 45]\n",
       "1      (50, 60]\n",
       "2      (50, 60]\n",
       "4      (50, 60]\n",
       "5      (50, 60]\n",
       "         ...   \n",
       "142    (35, 40]\n",
       "143    (35, 40]\n",
       "147    (40, 45]\n",
       "149    (45, 50]\n",
       "150    (45, 50]\n",
       "Name: Age, Length: 75, dtype: category\n",
       "Categories (13, interval[int64, right]): [(0, 5] < (5, 10] < (10, 15] < (15, 20] ... (45, 50] < (50, 60] < (60, 70] < (70, 75]]"
      ]
     },
     "execution_count": 16,
     "metadata": {},
     "output_type": "execute_result"
    }
   ],
   "source": [
    "pd.cut(trainDatax['Age'],[0,5,10,15,20,25,30,35,40,45,50,60,70,75])"
   ]
  },
  {
   "cell_type": "code",
   "execution_count": 17,
   "metadata": {},
   "outputs": [
    {
     "name": "stderr",
     "output_type": "stream",
     "text": [
      "C:\\Users\\HP\\AppData\\Local\\Temp\\ipykernel_9948\\3295828258.py:1: SettingWithCopyWarning: \n",
      "A value is trying to be set on a copy of a slice from a DataFrame.\n",
      "Try using .loc[row_indexer,col_indexer] = value instead\n",
      "\n",
      "See the caveats in the documentation: https://pandas.pydata.org/pandas-docs/stable/user_guide/indexing.html#returning-a-view-versus-a-copy\n",
      "  trainDatax['Age']=pd.cut(trainDatax['Age'],[0,5,10,15,20,25,30,35,40,45,50,60,70,100])\n"
     ]
    }
   ],
   "source": [
    "trainDatax['Age']=pd.cut(trainDatax['Age'],[0,5,10,15,20,25,30,35,40,45,50,60,70,100])"
   ]
  },
  {
   "cell_type": "code",
   "execution_count": 18,
   "metadata": {},
   "outputs": [
    {
     "data": {
      "text/html": [
       "<div>\n",
       "<style scoped>\n",
       "    .dataframe tbody tr th:only-of-type {\n",
       "        vertical-align: middle;\n",
       "    }\n",
       "\n",
       "    .dataframe tbody tr th {\n",
       "        vertical-align: top;\n",
       "    }\n",
       "\n",
       "    .dataframe thead th {\n",
       "        text-align: right;\n",
       "    }\n",
       "</style>\n",
       "<table border=\"1\" class=\"dataframe\">\n",
       "  <thead>\n",
       "    <tr style=\"text-align: right;\">\n",
       "      <th></th>\n",
       "      <th>restecg</th>\n",
       "      <th>Gender</th>\n",
       "      <th>Age</th>\n",
       "    </tr>\n",
       "  </thead>\n",
       "  <tbody>\n",
       "    <tr>\n",
       "      <th>0</th>\n",
       "      <td>2</td>\n",
       "      <td>Female</td>\n",
       "      <td>(40, 45]</td>\n",
       "    </tr>\n",
       "    <tr>\n",
       "      <th>1</th>\n",
       "      <td>0</td>\n",
       "      <td>Female</td>\n",
       "      <td>(50, 60]</td>\n",
       "    </tr>\n",
       "    <tr>\n",
       "      <th>2</th>\n",
       "      <td>1</td>\n",
       "      <td>Female</td>\n",
       "      <td>(50, 60]</td>\n",
       "    </tr>\n",
       "    <tr>\n",
       "      <th>4</th>\n",
       "      <td>2</td>\n",
       "      <td>Female</td>\n",
       "      <td>(50, 60]</td>\n",
       "    </tr>\n",
       "    <tr>\n",
       "      <th>5</th>\n",
       "      <td>2</td>\n",
       "      <td>Female</td>\n",
       "      <td>(50, 60]</td>\n",
       "    </tr>\n",
       "  </tbody>\n",
       "</table>\n",
       "</div>"
      ],
      "text/plain": [
       "   restecg  Gender       Age\n",
       "0        2  Female  (40, 45]\n",
       "1        0  Female  (50, 60]\n",
       "2        1  Female  (50, 60]\n",
       "4        2  Female  (50, 60]\n",
       "5        2  Female  (50, 60]"
      ]
     },
     "execution_count": 18,
     "metadata": {},
     "output_type": "execute_result"
    }
   ],
   "source": [
    "trainDatax.head()"
   ]
  },
  {
   "cell_type": "code",
   "execution_count": 19,
   "metadata": {},
   "outputs": [
    {
     "data": {
      "text/plain": [
       "0      False\n",
       "1       True\n",
       "2      False\n",
       "4       True\n",
       "5       True\n",
       "       ...  \n",
       "142     True\n",
       "143     True\n",
       "147     True\n",
       "149     True\n",
       "150    False\n",
       "Length: 75, dtype: bool"
      ]
     },
     "execution_count": 19,
     "metadata": {},
     "output_type": "execute_result"
    }
   ],
   "source": [
    "trainDatax.duplicated(keep=False)"
   ]
  },
  {
   "cell_type": "code",
   "execution_count": 20,
   "metadata": {},
   "outputs": [
    {
     "name": "stderr",
     "output_type": "stream",
     "text": [
      "C:\\Users\\HP\\AppData\\Local\\Temp\\ipykernel_9948\\4275675532.py:2: SettingWithCopyWarning: \n",
      "A value is trying to be set on a copy of a slice from a DataFrame.\n",
      "Try using .loc[row_indexer,col_indexer] = value instead\n",
      "\n",
      "See the caveats in the documentation: https://pandas.pydata.org/pandas-docs/stable/user_guide/indexing.html#returning-a-view-versus-a-copy\n",
      "  trainDatax.loc[:,'Age'],categoriaSex=pd.factorize(trainDatax['Age'],sort=True)\n"
     ]
    }
   ],
   "source": [
    "from pandas.core.arrays import categorical\n",
    "trainDatax.loc[:,'Age'],categoriaSex=pd.factorize(trainDatax['Age'],sort=True)"
   ]
  },
  {
   "cell_type": "code",
   "execution_count": 21,
   "metadata": {},
   "outputs": [
    {
     "name": "stderr",
     "output_type": "stream",
     "text": [
      "C:\\Users\\HP\\AppData\\Local\\Temp\\ipykernel_9948\\891201897.py:1: SettingWithCopyWarning: \n",
      "A value is trying to be set on a copy of a slice from a DataFrame.\n",
      "Try using .loc[row_indexer,col_indexer] = value instead\n",
      "\n",
      "See the caveats in the documentation: https://pandas.pydata.org/pandas-docs/stable/user_guide/indexing.html#returning-a-view-versus-a-copy\n",
      "  trainDatax.loc[:,'Gender'],categoriAge=pd.factorize(trainDatax['Gender'],sort=True)\n"
     ]
    },
    {
     "data": {
      "text/plain": [
       "Index(['Female', 'Male'], dtype='object')"
      ]
     },
     "execution_count": 21,
     "metadata": {},
     "output_type": "execute_result"
    }
   ],
   "source": [
    "trainDatax.loc[:,'Gender'],categoriAge=pd.factorize(trainDatax['Gender'],sort=True)\n",
    "categoriAge"
   ]
  },
  {
   "cell_type": "code",
   "execution_count": 22,
   "metadata": {},
   "outputs": [
    {
     "data": {
      "text/html": [
       "<div>\n",
       "<style scoped>\n",
       "    .dataframe tbody tr th:only-of-type {\n",
       "        vertical-align: middle;\n",
       "    }\n",
       "\n",
       "    .dataframe tbody tr th {\n",
       "        vertical-align: top;\n",
       "    }\n",
       "\n",
       "    .dataframe thead th {\n",
       "        text-align: right;\n",
       "    }\n",
       "</style>\n",
       "<table border=\"1\" class=\"dataframe\">\n",
       "  <thead>\n",
       "    <tr style=\"text-align: right;\">\n",
       "      <th></th>\n",
       "      <th>restecg</th>\n",
       "      <th>Gender</th>\n",
       "      <th>Age</th>\n",
       "    </tr>\n",
       "  </thead>\n",
       "  <tbody>\n",
       "    <tr>\n",
       "      <th>0</th>\n",
       "      <td>2</td>\n",
       "      <td>0</td>\n",
       "      <td>3</td>\n",
       "    </tr>\n",
       "    <tr>\n",
       "      <th>1</th>\n",
       "      <td>0</td>\n",
       "      <td>0</td>\n",
       "      <td>5</td>\n",
       "    </tr>\n",
       "    <tr>\n",
       "      <th>2</th>\n",
       "      <td>1</td>\n",
       "      <td>0</td>\n",
       "      <td>5</td>\n",
       "    </tr>\n",
       "    <tr>\n",
       "      <th>4</th>\n",
       "      <td>2</td>\n",
       "      <td>0</td>\n",
       "      <td>5</td>\n",
       "    </tr>\n",
       "    <tr>\n",
       "      <th>5</th>\n",
       "      <td>2</td>\n",
       "      <td>0</td>\n",
       "      <td>5</td>\n",
       "    </tr>\n",
       "  </tbody>\n",
       "</table>\n",
       "</div>"
      ],
      "text/plain": [
       "   restecg  Gender  Age\n",
       "0        2       0    3\n",
       "1        0       0    5\n",
       "2        1       0    5\n",
       "4        2       0    5\n",
       "5        2       0    5"
      ]
     },
     "execution_count": 22,
     "metadata": {},
     "output_type": "execute_result"
    }
   ],
   "source": [
    "# de aqui en adelante nos toca la normalización\n",
    "trainDatax.head()"
   ]
  },
  {
   "cell_type": "code",
   "execution_count": 23,
   "metadata": {},
   "outputs": [],
   "source": [
    "#Normalizar los datos\n",
    "from sklearn.preprocessing import StandardScaler"
   ]
  },
  {
   "cell_type": "code",
   "execution_count": 24,
   "metadata": {},
   "outputs": [
    {
     "name": "stdout",
     "output_type": "stream",
     "text": [
      "[1.14666667 0.74666667 4.65333333]\n"
     ]
    }
   ],
   "source": [
    "scaler=StandardScaler()\n",
    "scaler.fit(trainDatax)\n",
    "print(scaler.mean_)"
   ]
  },
  {
   "cell_type": "code",
   "execution_count": 25,
   "metadata": {},
   "outputs": [
    {
     "data": {
      "text/plain": [
       "array([[ 0.87466307, -1.71679015, -1.05847677],\n",
       "       [-1.1753285 , -1.71679015,  0.22193868],\n",
       "       [-0.15033272, -1.71679015,  0.22193868],\n",
       "       [ 0.87466307, -1.71679015,  0.22193868],\n",
       "       [ 0.87466307, -1.71679015,  0.22193868],\n",
       "       [-1.1753285 , -1.71679015,  0.22193868],\n",
       "       [ 0.87466307, -1.71679015,  0.22193868],\n",
       "       [ 0.87466307, -1.71679015,  0.22193868],\n",
       "       [-1.1753285 , -1.71679015,  0.22193868],\n",
       "       [ 0.87466307, -1.71679015,  0.22193868],\n",
       "       [ 0.87466307, -1.71679015,  0.8621464 ],\n",
       "       [ 0.87466307, -1.71679015,  0.8621464 ],\n",
       "       [-1.1753285 , -1.71679015,  0.8621464 ],\n",
       "       [ 0.87466307, -1.71679015,  0.8621464 ],\n",
       "       [-1.1753285 , -1.71679015,  0.8621464 ],\n",
       "       [ 0.87466307, -1.71679015,  0.8621464 ],\n",
       "       [-1.1753285 , -1.71679015,  0.8621464 ],\n",
       "       [-1.1753285 ,  0.58248237, -2.97909994],\n",
       "       [ 0.87466307,  0.58248237, -2.97909994],\n",
       "       [-1.1753285 ,  0.58248237, -2.33889221],\n",
       "       [-1.1753285 ,  0.58248237, -1.69868449],\n",
       "       [ 0.87466307,  0.58248237, -1.69868449],\n",
       "       [-1.1753285 ,  0.58248237, -1.69868449],\n",
       "       [ 0.87466307,  0.58248237, -1.05847677],\n",
       "       [-1.1753285 ,  0.58248237, -1.05847677],\n",
       "       [ 0.87466307,  0.58248237, -1.05847677],\n",
       "       [ 0.87466307,  0.58248237, -0.41826905],\n",
       "       [ 0.87466307,  0.58248237, -0.41826905],\n",
       "       [ 0.87466307,  0.58248237, -0.41826905],\n",
       "       [-1.1753285 ,  0.58248237, -0.41826905],\n",
       "       [ 0.87466307,  0.58248237, -0.41826905],\n",
       "       [-1.1753285 ,  0.58248237, -0.41826905],\n",
       "       [ 0.87466307,  0.58248237,  0.22193868],\n",
       "       [-1.1753285 ,  0.58248237,  0.22193868],\n",
       "       [-1.1753285 ,  0.58248237,  0.22193868],\n",
       "       [ 0.87466307,  0.58248237,  0.22193868],\n",
       "       [ 0.87466307,  0.58248237,  0.22193868],\n",
       "       [-1.1753285 ,  0.58248237,  0.22193868],\n",
       "       [ 0.87466307,  0.58248237,  0.22193868],\n",
       "       [-1.1753285 ,  0.58248237,  0.22193868],\n",
       "       [ 0.87466307,  0.58248237,  0.22193868],\n",
       "       [-1.1753285 ,  0.58248237,  0.22193868],\n",
       "       [ 0.87466307,  0.58248237,  0.22193868],\n",
       "       [ 0.87466307,  0.58248237,  0.22193868],\n",
       "       [-1.1753285 ,  0.58248237,  0.22193868],\n",
       "       [-1.1753285 ,  0.58248237,  0.22193868],\n",
       "       [-0.15033272,  0.58248237,  0.22193868],\n",
       "       [ 0.87466307,  0.58248237,  0.22193868],\n",
       "       [-1.1753285 ,  0.58248237,  0.22193868],\n",
       "       [ 0.87466307,  0.58248237,  0.22193868],\n",
       "       [-1.1753285 ,  0.58248237,  0.22193868],\n",
       "       [-1.1753285 ,  0.58248237,  0.8621464 ],\n",
       "       [ 0.87466307,  0.58248237,  0.8621464 ],\n",
       "       [-1.1753285 ,  0.58248237,  0.8621464 ],\n",
       "       [ 0.87466307,  0.58248237,  0.8621464 ],\n",
       "       [ 0.87466307,  0.58248237,  0.8621464 ],\n",
       "       [-1.1753285 ,  0.58248237,  0.8621464 ],\n",
       "       [ 0.87466307,  0.58248237,  0.8621464 ],\n",
       "       [ 0.87466307,  0.58248237,  0.8621464 ],\n",
       "       [-1.1753285 ,  0.58248237,  0.8621464 ],\n",
       "       [ 0.87466307,  0.58248237,  0.8621464 ],\n",
       "       [ 0.87466307,  0.58248237,  0.8621464 ],\n",
       "       [-1.1753285 ,  0.58248237,  0.8621464 ],\n",
       "       [ 0.87466307,  0.58248237,  0.8621464 ],\n",
       "       [-1.1753285 ,  0.58248237,  0.8621464 ],\n",
       "       [ 0.87466307,  0.58248237,  0.8621464 ],\n",
       "       [-1.1753285 ,  0.58248237,  0.8621464 ],\n",
       "       [ 0.87466307,  0.58248237,  0.8621464 ],\n",
       "       [ 0.87466307,  0.58248237,  1.50235412],\n",
       "       [-1.1753285 , -1.71679015, -2.97909994],\n",
       "       [-1.1753285 ,  0.58248237, -1.69868449],\n",
       "       [ 0.87466307,  0.58248237, -1.69868449],\n",
       "       [ 0.87466307,  0.58248237, -1.05847677],\n",
       "       [ 0.87466307,  0.58248237, -0.41826905],\n",
       "       [ 0.87466307, -1.71679015, -0.41826905]])"
      ]
     },
     "execution_count": 25,
     "metadata": {},
     "output_type": "execute_result"
    }
   ],
   "source": [
    "trainDatax=scaler.fit_transform(trainDatax)\n",
    "trainDatax"
   ]
  },
  {
   "cell_type": "code",
   "execution_count": 26,
   "metadata": {},
   "outputs": [],
   "source": [
    "from sklearn.decomposition import PCA"
   ]
  },
  {
   "cell_type": "code",
   "execution_count": 27,
   "metadata": {},
   "outputs": [
    {
     "name": "stdout",
     "output_type": "stream",
     "text": [
      "[0.39030882 0.32064974 0.28904144]\n"
     ]
    }
   ],
   "source": [
    "pca = PCA(n_components=3)\n",
    "pca.fit(trainDatax)\n",
    "print(pca.explained_variance_ratio_)  "
   ]
  },
  {
   "cell_type": "code",
   "execution_count": 28,
   "metadata": {},
   "outputs": [
    {
     "name": "stdout",
     "output_type": "stream",
     "text": [
      "[[ 0.87466307 -1.71679015 -1.05847677]\n",
      " [-1.1753285  -1.71679015  0.22193868]\n",
      " [-0.15033272 -1.71679015  0.22193868]\n",
      " [ 0.87466307 -1.71679015  0.22193868]\n",
      " [ 0.87466307 -1.71679015  0.22193868]\n",
      " [-1.1753285  -1.71679015  0.22193868]\n",
      " [ 0.87466307 -1.71679015  0.22193868]\n",
      " [ 0.87466307 -1.71679015  0.22193868]\n",
      " [-1.1753285  -1.71679015  0.22193868]\n",
      " [ 0.87466307 -1.71679015  0.22193868]\n",
      " [ 0.87466307 -1.71679015  0.8621464 ]\n",
      " [ 0.87466307 -1.71679015  0.8621464 ]\n",
      " [-1.1753285  -1.71679015  0.8621464 ]\n",
      " [ 0.87466307 -1.71679015  0.8621464 ]\n",
      " [-1.1753285  -1.71679015  0.8621464 ]\n",
      " [ 0.87466307 -1.71679015  0.8621464 ]\n",
      " [-1.1753285  -1.71679015  0.8621464 ]\n",
      " [-1.1753285   0.58248237 -2.97909994]\n",
      " [ 0.87466307  0.58248237 -2.97909994]\n",
      " [-1.1753285   0.58248237 -2.33889221]\n",
      " [-1.1753285   0.58248237 -1.69868449]\n",
      " [ 0.87466307  0.58248237 -1.69868449]\n",
      " [-1.1753285   0.58248237 -1.69868449]\n",
      " [ 0.87466307  0.58248237 -1.05847677]\n",
      " [-1.1753285   0.58248237 -1.05847677]\n",
      " [ 0.87466307  0.58248237 -1.05847677]\n",
      " [ 0.87466307  0.58248237 -0.41826905]\n",
      " [ 0.87466307  0.58248237 -0.41826905]\n",
      " [ 0.87466307  0.58248237 -0.41826905]\n",
      " [-1.1753285   0.58248237 -0.41826905]\n",
      " [ 0.87466307  0.58248237 -0.41826905]\n",
      " [-1.1753285   0.58248237 -0.41826905]\n",
      " [ 0.87466307  0.58248237  0.22193868]\n",
      " [-1.1753285   0.58248237  0.22193868]\n",
      " [-1.1753285   0.58248237  0.22193868]\n",
      " [ 0.87466307  0.58248237  0.22193868]\n",
      " [ 0.87466307  0.58248237  0.22193868]\n",
      " [-1.1753285   0.58248237  0.22193868]\n",
      " [ 0.87466307  0.58248237  0.22193868]\n",
      " [-1.1753285   0.58248237  0.22193868]\n",
      " [ 0.87466307  0.58248237  0.22193868]\n",
      " [-1.1753285   0.58248237  0.22193868]\n",
      " [ 0.87466307  0.58248237  0.22193868]\n",
      " [ 0.87466307  0.58248237  0.22193868]\n",
      " [-1.1753285   0.58248237  0.22193868]\n",
      " [-1.1753285   0.58248237  0.22193868]\n",
      " [-0.15033272  0.58248237  0.22193868]\n",
      " [ 0.87466307  0.58248237  0.22193868]\n",
      " [-1.1753285   0.58248237  0.22193868]\n",
      " [ 0.87466307  0.58248237  0.22193868]\n",
      " [-1.1753285   0.58248237  0.22193868]\n",
      " [-1.1753285   0.58248237  0.8621464 ]\n",
      " [ 0.87466307  0.58248237  0.8621464 ]\n",
      " [-1.1753285   0.58248237  0.8621464 ]\n",
      " [ 0.87466307  0.58248237  0.8621464 ]\n",
      " [ 0.87466307  0.58248237  0.8621464 ]\n",
      " [-1.1753285   0.58248237  0.8621464 ]\n",
      " [ 0.87466307  0.58248237  0.8621464 ]\n",
      " [ 0.87466307  0.58248237  0.8621464 ]\n",
      " [-1.1753285   0.58248237  0.8621464 ]\n",
      " [ 0.87466307  0.58248237  0.8621464 ]\n",
      " [ 0.87466307  0.58248237  0.8621464 ]\n",
      " [-1.1753285   0.58248237  0.8621464 ]\n",
      " [ 0.87466307  0.58248237  0.8621464 ]\n",
      " [-1.1753285   0.58248237  0.8621464 ]\n",
      " [ 0.87466307  0.58248237  0.8621464 ]\n",
      " [-1.1753285   0.58248237  0.8621464 ]\n",
      " [ 0.87466307  0.58248237  0.8621464 ]\n",
      " [ 0.87466307  0.58248237  1.50235412]\n",
      " [-1.1753285  -1.71679015 -2.97909994]\n",
      " [-1.1753285   0.58248237 -1.69868449]\n",
      " [ 0.87466307  0.58248237 -1.69868449]\n",
      " [ 0.87466307  0.58248237 -1.05847677]\n",
      " [ 0.87466307  0.58248237 -0.41826905]\n",
      " [ 0.87466307 -1.71679015 -0.41826905]]      Mortality\n",
      "0            0\n",
      "1            0\n",
      "2            0\n",
      "4            0\n",
      "5            1\n",
      "..         ...\n",
      "142          0\n",
      "143          0\n",
      "147          1\n",
      "149          1\n",
      "150          1\n",
      "\n",
      "[75 rows x 1 columns]\n"
     ]
    }
   ],
   "source": [
    "print(trainDatax, trainDatay)"
   ]
  },
  {
   "cell_type": "code",
   "execution_count": 29,
   "metadata": {},
   "outputs": [],
   "source": [
    "# Entrenar la RN\n",
    "import numpy as np\n",
    "from sklearn.model_selection import train_test_split"
   ]
  },
  {
   "cell_type": "code",
   "execution_count": 30,
   "metadata": {},
   "outputs": [],
   "source": [
    "trainDatay=trainDatay.to_numpy()\n",
    "x_train, x_test, y_train, y_test= train_test_split(trainDatax, trainDatay, test_size=0.3)"
   ]
  },
  {
   "cell_type": "code",
   "execution_count": 31,
   "metadata": {},
   "outputs": [
    {
     "name": "stdout",
     "output_type": "stream",
     "text": [
      "[[-1.1753285   0.58248237  0.22193868]\n",
      " [-1.1753285  -1.71679015 -2.97909994]\n",
      " [-1.1753285  -1.71679015  0.8621464 ]\n",
      " [-1.1753285   0.58248237  0.22193868]\n",
      " [-1.1753285   0.58248237  0.22193868]\n",
      " [ 0.87466307 -1.71679015 -1.05847677]\n",
      " [ 0.87466307  0.58248237  0.22193868]\n",
      " [-0.15033272  0.58248237  0.22193868]\n",
      " [ 0.87466307  0.58248237  1.50235412]\n",
      " [-1.1753285   0.58248237 -1.69868449]\n",
      " [ 0.87466307  0.58248237  0.22193868]\n",
      " [-1.1753285   0.58248237  0.22193868]\n",
      " [ 0.87466307  0.58248237  0.8621464 ]\n",
      " [ 0.87466307  0.58248237 -1.05847677]\n",
      " [-1.1753285  -1.71679015  0.8621464 ]] [[-1.1753285   0.58248237  0.8621464 ]\n",
      " [-1.1753285   0.58248237  0.22193868]\n",
      " [-1.1753285   0.58248237  0.8621464 ]\n",
      " [ 0.87466307  0.58248237  0.22193868]\n",
      " [ 0.87466307  0.58248237  0.8621464 ]\n",
      " [-1.1753285  -1.71679015  0.22193868]\n",
      " [ 0.87466307  0.58248237 -0.41826905]\n",
      " [-1.1753285   0.58248237  0.22193868]\n",
      " [ 0.87466307  0.58248237  0.22193868]\n",
      " [-1.1753285   0.58248237 -1.69868449]\n",
      " [ 0.87466307  0.58248237  0.8621464 ]\n",
      " [ 0.87466307 -1.71679015  0.22193868]\n",
      " [ 0.87466307  0.58248237 -2.97909994]\n",
      " [-1.1753285   0.58248237  0.8621464 ]\n",
      " [ 0.87466307 -1.71679015 -0.41826905]] [[0]\n",
      " [0]\n",
      " [1]\n",
      " [0]\n",
      " [0]\n",
      " [0]\n",
      " [0]\n",
      " [0]\n",
      " [0]\n",
      " [0]\n",
      " [1]\n",
      " [0]\n",
      " [0]\n",
      " [0]\n",
      " [0]] [[0]\n",
      " [0]\n",
      " [0]\n",
      " [0]\n",
      " [0]\n",
      " [1]\n",
      " [0]\n",
      " [0]\n",
      " [0]\n",
      " [1]\n",
      " [0]\n",
      " [1]\n",
      " [0]\n",
      " [0]\n",
      " [1]]\n"
     ]
    }
   ],
   "source": [
    "print(x_train[0:15], x_test[0:15], y_train[0:15], y_test[0:15])"
   ]
  },
  {
   "cell_type": "code",
   "execution_count": null,
   "metadata": {},
   "outputs": [],
   "source": [
    "#import numpy as np\n",
    "\n",
    "def sigmoide(x):\n",
    "  return (1.0/(1.0+np.exp(-x)))\n",
    "def derivada(x):\n",
    "  return sigmoide(x)*(1.0-sigmoide(x))\n",
    "\n",
    "def neurona(entrada, pesosCO1, tendenciasC01, pesosCO2, tendenciasCO2, pesosCO3, tendenciasCO3,pesosCO4, tendenciasCO4, pesosCO5, tendenciasCO5,pesosCO6, tendenciasCO6,pesosCO7, tendenciasCO7, pesosCS, tendenciasCS):\n",
    "  entradaNetaC1=np.dot(pesosCO1, np.transpose(entrada))-tendenciasC01\n",
    "  salidaC1=sigmoide(entradaNetaC1)\n",
    "\n",
    "  entradaNetaC2 = np.dot(pesosCO2,salidaC1)-tendenciasCO2\n",
    "  salidaC2=sigmoide(entradaNetaC2)\n",
    "\n",
    "  entradaNetaC3 = np.dot(pesosCO3,salidaC2)-tendenciasCO3\n",
    "  salidaC3=sigmoide(entradaNetaC3)\n",
    "\n",
    "  entradaNetaC4 = np.dot(pesosCO4,salidaC3)-tendenciasCO4\n",
    "  salidaC4=sigmoide(entradaNetaC4)\n",
    "\n",
    "  entradaNetaC5 = np.dot(pesosCO5,salidaC4)-tendenciasCO5\n",
    "  salidaC5=sigmoide(entradaNetaC5)\n",
    "\n",
    "  entradaNetaC6 = np.dot(pesosCO6,salidaC5)-tendenciasCO6\n",
    "  salidaC6=sigmoide(entradaNetaC6)\n",
    "\n",
    "  entradaNetaC7 = np.dot(pesosCO7,salidaC6)-tendenciasCO7\n",
    "  salidaC7=sigmoide(entradaNetaC7)\n",
    "\n",
    "  entradaNetaCS = np.dot(pesosCS,salidaC7)-tendenciasCS\n",
    "  salida=sigmoide(entradaNetaCS)\n",
    "\n",
    "  return salida, entradaNetaCS,entradaNetaC7,entradaNetaC6,entradaNetaC5,entradaNetaC4, entradaNetaC3, entradaNetaC2, entradaNetaC1\n",
    "# el algoritmo recibe\n",
    "# FacorAprendizaje: que tanto se permite el cambio en los pesos w(t) = e*error'f'(neta)*xj\n",
    "# error: un valor de error que permitimos\n",
    "# entradas: el conjunto de entradas que se van a trabajar \n",
    "# salidas: salidas esperadas\n",
    "# max-it: el numero de iteraciones que prmitimos\n",
    "# alpha: el valor de incremento del factor de aprendzaje\n",
    "# rho: El valor de decremento del factor de aprendizaje\n",
    "# neuronasC1: numero de neuronas en la capa oculta 1\n",
    "# neuronasC2: numero de neuronas en la capa oculta 2\n",
    "# neuronasC3: numero de neuronas en la capa oculta 3\n",
    "# neuronasC4: numero de neuronas en la capa oculta 4\n",
    "# neuronasC5: numero de neuronas en la capa oculta 5\n",
    "# neuronasC6: numero de neuronas en la capa oculta 6\n",
    "# neuronasC7: numero de neuronas en la capa oculta 7\n",
    "\n",
    "def backpropagation(entradas, salidas,factorAprendizaje, error, max_it, alpha, rho, neuronasC1, neuronasC2, neuronasC3,neuronasC4,neuronasC5, neuronasC6, neuronasC7):\n",
    "\n",
    "  # tiene 3 neuronas y como tres entradas tenemos una matriz de 3x3\n",
    "  pesosCO1=2*np.random.rand(neuronasC1,entradas.shape[1])-1\n",
    "  tendenciasC1=2*np.random.rand(neuronasC1)-1\n",
    "\n",
    "  # pesos capa oculta 2\n",
    "  # la capa oculta 2 tiene 2 neuronas y recive las salidas de 3 neuronas en la capa oculta 1\n",
    "  # genera una matriz de 2x3\n",
    "  pesosCO2=2*np.random.rand(neuronasC2,neuronasC1)-1\n",
    "  tendenciasC2=2*np.random.rand(neuronasC2)-1\n",
    "\n",
    "  # capa oculta 3\n",
    "  pesosCO3=2*np.random.rand(neuronasC3,neuronasC2)-1\n",
    "  tendenciasC3=2*np.random.rand(neuronasC3)-1\n",
    "\n",
    "  # capa oculta 4\n",
    "  pesosCO4=2*np.random.rand(neuronasC4,neuronasC3)-1\n",
    "  tendenciasC4=2*np.random.rand(neuronasC4)-1\n",
    "\n",
    "  # capa oculta 5\n",
    "  pesosCO5=2*np.random.rand(neuronasC5,neuronasC4)-1\n",
    "  tendenciasC5=2*np.random.rand(neuronasC5)-1\n",
    "\n",
    "  # capa oculta 6\n",
    "  pesosCO6=2*np.random.rand(neuronasC6,neuronasC5)-1\n",
    "  tendenciasC6=2*np.random.rand(neuronasC6)-1\n",
    "\n",
    "  # capa oculta 7\n",
    "  pesosCO7=2*np.random.rand(neuronasC7,neuronasC6)-1\n",
    "  tendenciasC7=2*np.random.rand(neuronasC7)-1\n",
    "\n",
    "  # Generamos los pesos de la capa de salida, 1 salida (1 neurona) y tenemos 2 entradas que vienen de la capa oculta 2\n",
    "  pesosCS = 2*np.random.rand(neuronasC7)-1\n",
    "  tendenciasCS=2*np.random.rand(1)-1\n",
    "  it=0\n",
    "  errorVec=[]\n",
    "  errorAnt=float('inf')\n",
    "  while(it<max_it):\n",
    "    it+=1\n",
    "    errorIt=0\n",
    "    for i in range(0, entradas.shape[0]):\n",
    "      ent=entradas[i]\n",
    "      t=salidas[i]\n",
    "      y,entradaNetaCS,entradaNetaC7,entradaNetaC6,entradaNetaC5,entradaNetaC4, entradaNetaC3, entradaNetaC2, entradaNetaC1=neurona(ent, pesosCO1, tendenciasC1, pesosCO2, tendenciasC2,pesosCO3, tendenciasC3,pesosCO4, tendenciasC4, pesosCO5, tendenciasC5,pesosCO6, tendenciasC6,pesosCO7, tendenciasC7, pesosCS, tendenciasCS)\n",
    "\n",
    "      errorIt+=np.power(t-y,2)/2.0\n",
    "\n",
    "    errorVec.append(errorIt)\n",
    "    for i in range(0, entradas.shape[0]):\n",
    "      ent=entradas[i]\n",
    "      t=salidas[i]\n",
    "      y, entradaNetaCS, entradaNetaC7,entradaNetaC6, entradaNetaC5, entradaNetaC4,entradaNetaC3, entradaNetaC2, entradaNetaC1 = neurona(ent, pesosCO1, tendenciasC1, pesosCO2, tendenciasC2, pesosCO3, tendenciasC3,pesosCO4, tendenciasC4, pesosCO5, tendenciasC5,pesosCO6, tendenciasC6, pesosCO7, tendenciasC7, pesosCS, tendenciasCS)\n",
    "\n",
    "      # calcular el error en la capa salida\n",
    "      errorCS=(t-y)*derivada(entradaNetaCS)\n",
    "\n",
    "      # calcular la capa oculta 7\n",
    "      errorC7=0\n",
    "      for j in range(0,pesosCS.shape[0]):\n",
    "        errorC7+=pesosCS[j]*errorCS*derivada(entradaNetaC7[j])\n",
    "\n",
    "      # calcular la capa oculta 6\n",
    "      errorC6=0\n",
    "      for j in range(0,pesosCO7.shape[0]):\n",
    "        for k in range(0, pesosCO7.shape[1]):\n",
    "          errorC6 += pesosCO7[j][k]*errorC7*derivada(entradaNetaC6[k])\n",
    "\n",
    "      # calcular la capa oculta 5\n",
    "      errorC5=0\n",
    "      for j in range(0,pesosCO6.shape[0]):\n",
    "        for k in range(0, pesosCO6.shape[1]):\n",
    "          errorC5 += pesosCO6[j][k]*errorC6*derivada(entradaNetaC5[k])\n",
    "\n",
    "      # calcular la capa oculta 4\n",
    "      errorC4=0\n",
    "      for j in range(0,pesosCO5.shape[0]):\n",
    "        for k in range(0, pesosCO5.shape[1]):\n",
    "          errorC4 += pesosCO5[j][k]*errorC5*derivada(entradaNetaC4[k])\n",
    "\n",
    "      # calcular la capa oculta 3\n",
    "      errorC3=0\n",
    "      for j in range(0,pesosCO4.shape[0]):\n",
    "        for k in range(0, pesosCO4.shape[1]):\n",
    "          errorC3 += pesosCO4[j][k]*errorC4*derivada(entradaNetaC3[k])\n",
    "\n",
    "      #calcular el error capa oculta 2\n",
    "      errorC2=0\n",
    "      for j in range(0,pesosCO3.shape[0]):\n",
    "        for k in range(0, pesosCO3.shape[1]):\n",
    "          errorC2 += pesosCO3[j][k]*errorC3*derivada(entradaNetaC2[k])\n",
    "\n",
    "      #Calcular el error de la capa oculta 1\n",
    "      errorC1=0\n",
    "      for j in range(0, pesosCO2.shape[0]):\n",
    "        for k in range(0, pesosCO2.shape[1]):\n",
    "          errorC1 += pesosCO2[j][k]*errorC2*derivada(entradaNetaC1[k])\n"
   ]
  }
 ],
 "metadata": {
  "colab": {
   "collapsed_sections": [],
   "name": "Insuficiencia_Cardiaca.ipynb",
   "provenance": []
  },
  "kernelspec": {
   "display_name": "Python 3.9.12 ('base')",
   "language": "python",
   "name": "python3"
  },
  "language_info": {
   "codemirror_mode": {
    "name": "ipython",
    "version": 3
   },
   "file_extension": ".py",
   "mimetype": "text/x-python",
   "name": "python",
   "nbconvert_exporter": "python",
   "pygments_lexer": "ipython3",
   "version": "3.9.12"
  },
  "vscode": {
   "interpreter": {
    "hash": "dc07d24e2f18896857f0b2a651fe84ba40ce7b297e58d8804a308c8039f752a6"
   }
  }
 },
 "nbformat": 4,
 "nbformat_minor": 1
}
